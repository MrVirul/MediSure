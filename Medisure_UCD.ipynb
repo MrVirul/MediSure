{
  "nbformat": 4,
  "nbformat_minor": 0,
  "metadata": {
    "colab": {
      "provenance": [],
      "authorship_tag": "ABX9TyMyd7F5XYH5a/MJFUdjuyxz",
      "include_colab_link": true
    },
    "kernelspec": {
      "name": "python3",
      "display_name": "Python 3"
    },
    "language_info": {
      "name": "python"
    }
  },
  "cells": [
    {
      "cell_type": "markdown",
      "metadata": {
        "id": "view-in-github",
        "colab_type": "text"
      },
      "source": [
        "<a href=\"https://colab.research.google.com/github/MrVirul/MediSure/blob/master/Medisure_UCD.ipynb\" target=\"_parent\"><img src=\"https://colab.research.google.com/assets/colab-badge.svg\" alt=\"Open In Colab\"/></a>"
      ]
    },
    {
      "cell_type": "code",
      "execution_count": 2,
      "metadata": {
        "id": "jhVXboxzHUvU",
        "outputId": "f616f58c-5686-4b42-8baa-90522da31abe",
        "colab": {
          "base_uri": "https://localhost:8080/",
          "height": 53
        }
      },
      "outputs": [
        {
          "output_type": "stream",
          "name": "stderr",
          "text": [
            "Warning: using box for unknown shape actor\n"
          ]
        },
        {
          "output_type": "execute_result",
          "data": {
            "text/plain": [
              "'/mnt/data/health_insurance_usecase.png'"
            ],
            "application/vnd.google.colaboratory.intrinsic+json": {
              "type": "string"
            }
          },
          "metadata": {},
          "execution_count": 2
        }
      ],
      "source": [
        "from graphviz import Digraph\n",
        "\n",
        "# Create a Use Case Diagram with Graphviz (sketch for draw.io reference)\n",
        "dot = Digraph(\"UseCaseDiagram\", format=\"png\")\n",
        "dot.attr(rankdir=\"LR\", size=\"8\")\n",
        "\n",
        "# System boundary\n",
        "with dot.subgraph(name=\"cluster_system\") as c:\n",
        "    c.attr(label=\"Web-based Health Insurance Management System\", style=\"dashed\")\n",
        "\n",
        "    # Grouped use cases\n",
        "    # Policy Management\n",
        "    c.node(\"UC1\", \"Buy Policy\")\n",
        "    c.node(\"UC2\", \"Renew Policy\")\n",
        "    c.node(\"UC3\", \"Monitor Policy Flow\")\n",
        "    c.node(\"UC4\", \"Generate Reports\")\n",
        "    c.node(\"UC5\", \"Assign Roles\")\n",
        "\n",
        "    # Claims Management\n",
        "    c.node(\"UC6\", \"Submit Claim\")\n",
        "    c.node(\"UC7\", \"Process Claims\")\n",
        "    c.node(\"UC8\", \"Verify Documents\")\n",
        "    c.node(\"UC9\", \"Approve/Reject Claims\")\n",
        "    c.node(\"UC10\", \"Track Claim Status\")\n",
        "\n",
        "    # Finance Management\n",
        "    c.node(\"UC11\", \"Manage Premiums\")\n",
        "    c.node(\"UC12\", \"Generate Invoices\")\n",
        "    c.node(\"UC13\", \"Disburse/Refund Claims\")\n",
        "    c.node(\"UC14\", \"Integrate Payment API\")\n",
        "    c.node(\"UC15\", \"Financial Reports\")\n",
        "\n",
        "    # Support & Sales\n",
        "    c.node(\"UC16\", \"Handle Inquiries\")\n",
        "    c.node(\"UC17\", \"View Policy History\")\n",
        "    c.node(\"UC18\", \"Log Technical Issues\")\n",
        "    c.node(\"UC19\", \"Provide Chat Support\")\n",
        "    c.node(\"UC20\", \"Engage Customers\")\n",
        "    c.node(\"UC21\", \"Manage Leads\")\n",
        "    c.node(\"UC22\", \"View Portal Interactions\")\n",
        "\n",
        "    # Medical Records\n",
        "    c.node(\"UC23\", \"Upload Medical Records\")\n",
        "    c.node(\"UC24\", \"Verify Medical Records\")\n",
        "    c.node(\"UC25\", \"Track Record History\")\n",
        "    c.node(\"UC26\", \"Receive Upload Notifications\")\n",
        "\n",
        "# Actors\n",
        "dot.node(\"Customer\", shape=\"actor\")\n",
        "dot.node(\"Manager\", \"Insurance Operation Manager\", shape=\"actor\")\n",
        "dot.node(\"Support\", \"Customer Support Service\", shape=\"actor\")\n",
        "dot.node(\"Claims\", \"Claims Office\", shape=\"actor\")\n",
        "dot.node(\"Finance\", \"Finance Executive\", shape=\"actor\")\n",
        "dot.node(\"Sales\", \"Sales Officer\", shape=\"actor\")\n",
        "dot.node(\"Records\", \"Medical Records Coordinator\", shape=\"actor\")\n",
        "dot.node(\"Gateway\", \"Payment Gateway\", shape=\"actor\")\n",
        "\n",
        "# Associations (Customer)\n",
        "dot.edge(\"Customer\", \"UC1\")\n",
        "dot.edge(\"Customer\", \"UC2\")\n",
        "dot.edge(\"Customer\", \"UC6\")\n",
        "dot.edge(\"Customer\", \"UC10\")\n",
        "dot.edge(\"Customer\", \"UC23\")\n",
        "dot.edge(\"Customer\", \"UC11\")\n",
        "\n",
        "# Payment Gateway\n",
        "dot.edge(\"Gateway\", \"UC14\")\n",
        "\n",
        "# Manager\n",
        "dot.edge(\"Manager\", \"UC3\")\n",
        "dot.edge(\"Manager\", \"UC4\")\n",
        "dot.edge(\"Manager\", \"UC5\")\n",
        "\n",
        "# Support\n",
        "dot.edge(\"Support\", \"UC16\")\n",
        "dot.edge(\"Support\", \"UC17\")\n",
        "dot.edge(\"Support\", \"UC18\")\n",
        "dot.edge(\"Support\", \"UC19\")\n",
        "\n",
        "# Claims\n",
        "dot.edge(\"Claims\", \"UC7\")\n",
        "dot.edge(\"Claims\", \"UC8\")\n",
        "dot.edge(\"Claims\", \"UC9\")\n",
        "dot.edge(\"Claims\", \"UC10\")\n",
        "\n",
        "# Finance\n",
        "dot.edge(\"Finance\", \"UC11\")\n",
        "dot.edge(\"Finance\", \"UC12\")\n",
        "dot.edge(\"Finance\", \"UC13\")\n",
        "dot.edge(\"Finance\", \"UC14\")\n",
        "dot.edge(\"Finance\", \"UC15\")\n",
        "\n",
        "# Sales\n",
        "dot.edge(\"Sales\", \"UC1\")\n",
        "dot.edge(\"Sales\", \"UC2\")\n",
        "dot.edge(\"Sales\", \"UC20\")\n",
        "dot.edge(\"Sales\", \"UC21\")\n",
        "dot.edge(\"Sales\", \"UC22\")\n",
        "\n",
        "# Medical Records Coordinator\n",
        "dot.edge(\"Records\", \"UC23\")\n",
        "dot.edge(\"Records\", \"UC24\")\n",
        "dot.edge(\"Records\", \"UC25\")\n",
        "dot.edge(\"Records\", \"UC26\")\n",
        "\n",
        "# Render diagram\n",
        "file_path = \"/mnt/data/health_insurance_usecase\"\n",
        "dot.render(file_path, format=\"png\", cleanup=False)\n",
        "file_path + \".png\"\n"
      ]
    }
  ]
}